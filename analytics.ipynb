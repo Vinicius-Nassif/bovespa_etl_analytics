{
 "cells": [
  {
   "cell_type": "code",
   "execution_count": 12,
   "metadata": {},
   "outputs": [],
   "source": [
    "import pandas as pd"
   ]
  },
  {
   "cell_type": "code",
   "execution_count": 13,
   "metadata": {},
   "outputs": [],
   "source": [
    "def formatar_dados(arquivo_origem):\n",
    "    print('Formatação iniciada...')\n",
    "    # Carregando o arquivo .csv\n",
    "    df = pd.read_csv(arquivo_origem)\n",
    "\n",
    "    # Formatando os campos\n",
    "    df['data_pregao'] = pd.to_datetime(df['data_pregao']).dt.strftime('%d/%m/%Y')\n",
    "    df['preco_abertura'] = df['preco_abertura'].astype(float)\n",
    "    df['preco_maximo'] = df['preco_maximo'].astype(float)\n",
    "    df['preco_minimo'] = df['preco_minimo'].astype(float)\n",
    "    df['preco_fechamento'] = df['preco_fechamento'].astype(float)\n",
    "    df['qtd_negocios'] = df['qtd_negocios'].astype(int)\n",
    "    df['volume_negocios'] = df['volume_negocios'].astype(int)\n",
    "\n",
    "    # Remover o índice do DataFrame\n",
    "    df = df.reset_index(drop=True)\n",
    "\n",
    "    # Adicionar as colunas 'sigla_acao' e 'nome_acao' ao DataFrame, se necessário\n",
    "    if 'sigla_acao' not in df.columns:\n",
    "        df['sigla_acao'] = ''\n",
    "    if 'nome_acao' not in df.columns:\n",
    "        df['nome_acao'] = ''\n",
    "\n",
    "    print('Formatação Concluída!')\n",
    "    \n",
    "    return df"
   ]
  },
  {
   "cell_type": "code",
   "execution_count": 14,
   "metadata": {},
   "outputs": [],
   "source": [
    "## Funções de análise de dados\n",
    "def analisar_media(df):\n",
    "    # Calcular a média do preço de fechamento ao longo do tempo\n",
    "    media_fechamento = df['preco_fechamento'].mean()\n",
    "    media_fechamento_formatada = round(media_fechamento, 2)\n",
    "    print(\"Média do preço de fechamento:\")\n",
    "    print(media_fechamento_formatada)"
   ]
  },
  {
   "cell_type": "code",
   "execution_count": 15,
   "metadata": {},
   "outputs": [],
   "source": [
    "def maior_valor(df, quantidade):\n",
    "    # Ordernar por maior valor do preço máximo\n",
    "    maiores_valores = df.sort_values('preco_maximo', ascending=False).head(quantidade)\n",
    "    print('Preços máximos registrados: ')\n",
    "    print(maiores_valores.to_string(index=False))"
   ]
  },
  {
   "cell_type": "code",
   "execution_count": 23,
   "metadata": {},
   "outputs": [],
   "source": [
    "def menor_valor(df, quantidade):\n",
    "    # Ordenar por menor valor do preço mínimo\n",
    "    menores_valores = df.sort_values('preco_minimo', ascending=True).head(quantidade)\n",
    "    print('Preços mínimos registrados:')\n",
    "    print(menores_valores.to_string(index=False))\n"
   ]
  },
  {
   "cell_type": "code",
   "execution_count": 17,
   "metadata": {},
   "outputs": [],
   "source": [
    "def maior_volume(df, quantidade):\n",
    "    # Ordernar por maior volume de negócios\n",
    "    maiores_volumes = df.sort_values('volume_negocios', ascending=False).head(quantidade)\n",
    "    print('Maior volume de negócios registrados:')\n",
    "    print(maiores_volumes.to_string(index=False))"
   ]
  },
  {
   "cell_type": "code",
   "execution_count": 18,
   "metadata": {},
   "outputs": [],
   "source": [
    "def maior_negocio(df, quantidade):\n",
    "    # Ordenar o DataFrame pelo campo 'qtd_negocios' em ordem decrescente\n",
    "    df_sorted = df.sort_values('qtd_negocios', ascending=False)\n",
    "\n",
    "    # Selecionar as n primeiras linhas do DataFrame ordenado\n",
    "    top_dates = df_sorted.head(quantidade)[['data_pregao', 'sigla_acao', 'nome_acao', 'preco_fechamento', 'qtd_negocios']].copy()\n",
    "    \n",
    "    # Formatando as datas\n",
    "    top_dates['data_pregao'] = top_dates['data_pregao']\n",
    "\n",
    "    return top_dates"
   ]
  },
  {
   "cell_type": "code",
   "execution_count": 19,
   "metadata": {},
   "outputs": [
    {
     "name": "stdout",
     "output_type": "stream",
     "text": [
      "Formatação iniciada...\n"
     ]
    },
    {
     "name": "stdout",
     "output_type": "stream",
     "text": [
      "Formatação Concluída!\n"
     ]
    }
   ],
   "source": [
    "df_formatado = formatar_dados('all_bovespa.csv')"
   ]
  },
  {
   "cell_type": "code",
   "execution_count": 20,
   "metadata": {},
   "outputs": [
    {
     "name": "stdout",
     "output_type": "stream",
     "text": [
      "Média do preço de fechamento:\n",
      "113.78\n"
     ]
    },
    {
     "data": {
      "text/plain": [
       "113.78"
      ]
     },
     "execution_count": 20,
     "metadata": {},
     "output_type": "execute_result"
    }
   ],
   "source": [
    "analisar_media(df_formatado)"
   ]
  },
  {
   "cell_type": "code",
   "execution_count": 21,
   "metadata": {},
   "outputs": [
    {
     "name": "stdout",
     "output_type": "stream",
     "text": [
      "Preços máximos registrados: \n",
      "data_pregao sigla_acao nome_acao  preco_abertura  preco_maximo  preco_minimo  preco_fechamento  qtd_negocios  volume_negocios\n",
      " 16/06/2021     IBOV11  IBOVESPA        129516.0      129516.0      129516.0          129516.0        190790       1481375200\n",
      " 14/07/2021     IBOV11  IBOVESPA        128372.0      128372.0      128372.0          128372.0         28070       -398537264\n",
      " 13/01/2021     IBOV11  IBOVESPA        122150.0      122150.0      122150.0          122150.0        114710       1133246504\n",
      " 14/04/2021     IBOV11  IBOVESPA        120474.0      120474.0      120474.0          120474.0        114920       1507738688\n",
      " 17/02/2021     IBOV11  IBOVESPA        120395.0      120395.0      120395.0          120395.0        104210        614200068\n",
      " 12/05/2021     IBOV11  IBOVESPA        120306.0      120306.0      120306.0          120306.0         38830       -967145464\n",
      " 18/08/2021     IBOV11  IBOVESPA        117945.0      117945.0      117945.0          117945.0        119240       1969052208\n",
      " 16/12/2020     IBOV11  IBOVESPA        117577.0      117577.0      117577.0          117577.0        365580       -882297296\n",
      " 12/02/2020     IBOV11  IBOVESPA        116951.0      116951.0      116951.0          116951.0        195430        720962128\n",
      " 13/04/2022     IBOV11  IBOVESPA        116886.0      116886.0      116886.0          116886.0        142100      -1120463352\n"
     ]
    }
   ],
   "source": [
    "maior_valor(df_formatado, 10)"
   ]
  },
  {
   "cell_type": "code",
   "execution_count": 24,
   "metadata": {},
   "outputs": [
    {
     "name": "stdout",
     "output_type": "stream",
     "text": [
      "Preços mínimos registrados:\n",
      "data_pregao sigla_acao nome_acao  preco_abertura  preco_maximo  preco_minimo  preco_fechamento  qtd_negocios  volume_negocios\n",
      " 18/05/2021      BGIP4    BANESE            0.00          0.00          0.00              0.00           100           222400\n",
      " 03/03/2023      PDGR3 PDG REALT            0.09          0.09          0.08              0.09       8230600         70240600\n",
      " 02/03/2023      PDGR3 PDG REALT            0.09          0.10          0.08              0.09      14836100        133284900\n",
      " 28/02/2023      PDGR3 PDG REALT            0.11          0.11          0.09              0.10      23342300        242179600\n",
      " 01/03/2023      PDGR3 PDG REALT            0.10          0.11          0.09              0.09       6392100         61445100\n",
      " 22/12/2022      PDGR3 PDG REALT            0.10          0.14          0.10              0.12      49442100        578988200\n",
      " 29/12/2022      PDGR3 PDG REALT            0.11          0.12          0.10              0.12      14238500        160986300\n",
      " 21/12/2022      PDGR3 PDG REALT            0.12          0.12          0.10              0.10      29227900        307568900\n",
      " 28/12/2022      PDGR3 PDG REALT            0.11          0.12          0.10              0.11      17146800        187881300\n",
      " 17/02/2023      PDGR3 PDG REALT            0.11          0.12          0.11              0.11       2105900         23935500\n"
     ]
    }
   ],
   "source": [
    "menor_valor(df_formatado, 10)"
   ]
  },
  {
   "cell_type": "code",
   "execution_count": 25,
   "metadata": {},
   "outputs": [
    {
     "name": "stdout",
     "output_type": "stream",
     "text": [
      "Maior volume de negócios registrados:\n",
      "data_pregao sigla_acao  nome_acao  preco_abertura  preco_maximo  preco_minimo  preco_fechamento  qtd_negocios  volume_negocios\n",
      " 02/07/2020      CPLE3      COPEL           61.37         61.60         58.40             58.40        363800       2147434200\n",
      " 04/03/2020      BMGB4  BANCO BMG            6.65          6.73          6.32              6.50       3281000       2147425700\n",
      " 23/11/2021      MLAS3 MULTILASER            7.02          7.11          6.79              7.11       3097200       2147410800\n",
      " 19/08/2021      CEAB3  CEA MODAS            9.10          9.53          9.02              9.34       2305300       2147403800\n",
      " 23/02/2022      ABEV3  AMBEV S/A           14.62         15.26         14.59             14.81      30107000       2147389240\n"
     ]
    }
   ],
   "source": [
    "maior_volume(df_formatado, 5)"
   ]
  },
  {
   "cell_type": "code",
   "execution_count": 28,
   "metadata": {},
   "outputs": [
    {
     "data": {
      "text/html": [
       "<div>\n",
       "<style scoped>\n",
       "    .dataframe tbody tr th:only-of-type {\n",
       "        vertical-align: middle;\n",
       "    }\n",
       "\n",
       "    .dataframe tbody tr th {\n",
       "        vertical-align: top;\n",
       "    }\n",
       "\n",
       "    .dataframe thead th {\n",
       "        text-align: right;\n",
       "    }\n",
       "</style>\n",
       "<table border=\"1\" class=\"dataframe\">\n",
       "  <thead>\n",
       "    <tr style=\"text-align: right;\">\n",
       "      <th></th>\n",
       "      <th>data_pregao</th>\n",
       "      <th>sigla_acao</th>\n",
       "      <th>nome_acao</th>\n",
       "      <th>preco_fechamento</th>\n",
       "      <th>qtd_negocios</th>\n",
       "    </tr>\n",
       "  </thead>\n",
       "  <tbody>\n",
       "    <tr>\n",
       "      <th>517297</th>\n",
       "      <td>09/03/2023</td>\n",
       "      <td>HAPV3</td>\n",
       "      <td>HAPVIDA</td>\n",
       "      <td>1.94</td>\n",
       "      <td>553080600</td>\n",
       "    </tr>\n",
       "    <tr>\n",
       "      <th>499778</th>\n",
       "      <td>09/11/2022</td>\n",
       "      <td>BBDC4</td>\n",
       "      <td>BRADESCO</td>\n",
       "      <td>15.35</td>\n",
       "      <td>499194800</td>\n",
       "    </tr>\n",
       "    <tr>\n",
       "      <th>136521</th>\n",
       "      <td>22/02/2021</td>\n",
       "      <td>PETR4</td>\n",
       "      <td>PETROBRAS</td>\n",
       "      <td>21.45</td>\n",
       "      <td>490230400</td>\n",
       "    </tr>\n",
       "    <tr>\n",
       "      <th>515239</th>\n",
       "      <td>01/03/2023</td>\n",
       "      <td>HAPV3</td>\n",
       "      <td>HAPVIDA</td>\n",
       "      <td>3.02</td>\n",
       "      <td>485994800</td>\n",
       "    </tr>\n",
       "    <tr>\n",
       "      <th>508786</th>\n",
       "      <td>01/02/2023</td>\n",
       "      <td>RAIZ4</td>\n",
       "      <td>RAIZEN</td>\n",
       "      <td>3.15</td>\n",
       "      <td>404695000</td>\n",
       "    </tr>\n",
       "  </tbody>\n",
       "</table>\n",
       "</div>"
      ],
      "text/plain": [
       "       data_pregao sigla_acao  nome_acao  preco_fechamento  qtd_negocios\n",
       "517297  09/03/2023      HAPV3    HAPVIDA              1.94     553080600\n",
       "499778  09/11/2022      BBDC4   BRADESCO             15.35     499194800\n",
       "136521  22/02/2021      PETR4  PETROBRAS             21.45     490230400\n",
       "515239  01/03/2023      HAPV3    HAPVIDA              3.02     485994800\n",
       "508786  01/02/2023      RAIZ4     RAIZEN              3.15     404695000"
      ]
     },
     "execution_count": 28,
     "metadata": {},
     "output_type": "execute_result"
    }
   ],
   "source": [
    "maiores_numeros_negocios = maior_negocio(df_formatado, 5)\n",
    "maiores_numeros_negocios"
   ]
  },
  {
   "cell_type": "code",
   "execution_count": 29,
   "metadata": {},
   "outputs": [],
   "source": [
    "def encontrar_maior_variacao_percentual(df):\n",
    "    # Ordenar o DataFrame pela coluna 'data_pregao' em ordem crescente\n",
    "    df.sort_values('data_pregao', inplace=True)\n",
    "\n",
    "    # Criar a coluna 'variacao_percentual'\n",
    "    df['variacao_percentual'] = ((df['preco_fechamento'] - df['preco_abertura']) / df['preco_abertura']) * 100\n",
    "\n",
    "    # Encontrar o índice da linha com a maior variação percentual\n",
    "    indice_max_variacao = df['variacao_percentual'].idxmax()\n",
    "\n",
    "    # Obter as informações da ação com a maior variação percentual\n",
    "    acao_max_variacao = df.loc[indice_max_variacao, ['sigla_acao', 'nome_acao', 'variacao_percentual']]\n",
    "\n",
    "    # Imprimir as informações da ação encontrada\n",
    "    print(\"A ação com a maior variação percentual de preço de abertura para fechamento no período de 2020 a 2023 é:\")\n",
    "    print(\"Sigla da Ação:\", acao_max_variacao['sigla_acao'])\n",
    "    print(\"Nome da Ação:\", acao_max_variacao['nome_acao'])\n",
    "    print(\"Variação Percentual:\", acao_max_variacao['variacao_percentual'])\n"
   ]
  },
  {
   "cell_type": "code",
   "execution_count": 30,
   "metadata": {},
   "outputs": [
    {
     "name": "stdout",
     "output_type": "stream",
     "text": [
      "A ação com a maior variação percentual de preço de abertura para fechamento no período de 2020 a 2023 é:\n",
      "Sigla da Ação: MERC3\n",
      "Nome da Ação: MERC FINANC\n",
      "Variação Percentual: 413.9334155363748\n"
     ]
    }
   ],
   "source": [
    "encontrar_maior_variacao_percentual(df_formatado)"
   ]
  },
  {
   "cell_type": "code",
   "execution_count": 31,
   "metadata": {},
   "outputs": [],
   "source": [
    "def encontrar_maiores_variacoes_percentuais(df, quantidade):\n",
    "    # Ordenar o DataFrame pela coluna 'data_pregao' em ordem crescente\n",
    "    df.sort_values('data_pregao', inplace=True)\n",
    "\n",
    "    # Criar a coluna 'variacao_percentual'\n",
    "    df['variacao_percentual'] = ((df['preco_fechamento'] - df['preco_abertura']) / df['preco_abertura']) * 100\n",
    "\n",
    "    # Ordenar o DataFrame pela coluna 'variacao_percentual' em ordem decrescente\n",
    "    df.sort_values('variacao_percentual', ascending=False, inplace=True)\n",
    "\n",
    "    # Selecionar as 5 ações com maior variação percentual\n",
    "    top_variacoes = df.head(quantidade)[['sigla_acao', 'nome_acao', 'variacao_percentual']]\n",
    "\n",
    "    print(top_variacoes)"
   ]
  },
  {
   "cell_type": "code",
   "execution_count": 32,
   "metadata": {},
   "outputs": [
    {
     "name": "stdout",
     "output_type": "stream",
     "text": [
      "       sigla_acao    nome_acao  variacao_percentual\n",
      "50740       MERC3  MERC FINANC           413.933416\n",
      "209609      SHUL3       SCHULZ           383.376736\n",
      "139498      NORD3   NORDON MET           338.141470\n",
      "210766      CPLE5        COPEL           253.139217\n",
      "83466       DOHL3       DOHLER           134.666667\n"
     ]
    }
   ],
   "source": [
    "encontrar_maiores_variacoes_percentuais(df_formatado, 5)"
   ]
  },
  {
   "cell_type": "code",
   "execution_count": 37,
   "metadata": {},
   "outputs": [],
   "source": [
    "def encontrar_aumento_preco_fechamento(df, quantidade):\n",
    "    # Ordenar o DataFrame pela coluna 'data_pregao' em ordem crescente\n",
    "    df.sort_values('data_pregao', inplace=True)\n",
    "\n",
    "    # Calcular a variação percentual de preço de fechamento em relação ao dia anterior\n",
    "    df['variacao_percentual'] = ((df['preco_fechamento'] - df['preco_fechamento'].shift(1)) / df['preco_fechamento'].shift(1)) * 100\n",
    "\n",
    "    # Selecionar as linhas em que a variação percentual é positiva\n",
    "    aumento_preco_fechamento = df[df['variacao_percentual'] > 0][['sigla_acao', 'nome_acao']].head(quantidade)\n",
    "\n",
    "    # Imprimir as informações das ações com aumento de preço de fechamento\n",
    "    print(\"Ações com aumento percentual de preço de fechamento em relação ao dia anterior:\")\n",
    "    print(aumento_preco_fechamento)"
   ]
  },
  {
   "cell_type": "code",
   "execution_count": 38,
   "metadata": {},
   "outputs": [
    {
     "name": "stdout",
     "output_type": "stream",
     "text": [
      "Ações com aumento percentual de preço de fechamento em relação ao dia anterior:\n",
      "       sigla_acao     nome_acao\n",
      "126448     VISA34      VISA INC\n",
      "124772     A1TM34  ATMOS ENERGY\n",
      "125805     N1TA34    NETAPP INC\n",
      "125570     LILY34         LILLY\n",
      "125231     D1IS34  DISH NETWORK\n"
     ]
    }
   ],
   "source": [
    "encontrar_aumento_preco_fechamento(df_formatado, 5)"
   ]
  },
  {
   "cell_type": "code",
   "execution_count": 42,
   "metadata": {},
   "outputs": [],
   "source": [
    "def encontrar_maiores_quedas(df):\n",
    "    # Ordenar o DataFrame pela coluna 'data_pregao' em ordem crescente\n",
    "    df.sort_values('data_pregao', inplace=True)\n",
    "\n",
    "    # Calcular a variação percentual de preço de fechamento em relação ao dia anterior\n",
    "    df['variacao_percentual'] = ((df['preco_fechamento'] - df['preco_fechamento'].shift(1)) / df['preco_fechamento'].shift(1)) * 100\n",
    "\n",
    "    # Agrupar o DataFrame por 'sigla_acao' e encontrar os índices dos dias de maior queda percentual para cada ação\n",
    "    indices_maiores_quedas = df.groupby('sigla_acao')['variacao_percentual'].idxmin()\n",
    "\n",
    "    # Selecionar as linhas correspondentes aos índices encontrados\n",
    "    maiores_quedas = df.loc[indices_maiores_quedas, ['sigla_acao', 'nome_acao', 'data_pregao', 'variacao_percentual']].head()\n",
    "    \n",
    "    # Imprimir as informações dos dias de maior queda percentual\n",
    "    print(\"Dias de maior queda percentual para cada ação:\")\n",
    "    print(maiores_quedas)"
   ]
  },
  {
   "cell_type": "code",
   "execution_count": 43,
   "metadata": {},
   "outputs": [
    {
     "name": "stdout",
     "output_type": "stream",
     "text": [
      "Dias de maior queda percentual para cada ação:\n",
      "       sigla_acao     nome_acao data_pregao  variacao_percentual\n",
      "108261     A1AP34  ADVANCE AUTO  09/12/2020           -97.248077\n",
      "216638     A1BB34       ABB LTD  26/11/2021           -97.486642\n",
      "216652     A1BM34   ABIOMED INC  15/07/2021           -89.062530\n",
      "216995     A1CR34     AMCOR PLC  30/12/2021           -98.495774\n",
      "108272     A1DI34  ANALOG DEVIC  04/12/2020           -79.092195\n"
     ]
    }
   ],
   "source": [
    "encontrar_maiores_quedas(df_formatado)"
   ]
  },
  {
   "cell_type": "code",
   "execution_count": 44,
   "metadata": {},
   "outputs": [],
   "source": [
    "def calcular_volume_medio(df):\n",
    "    # Calcular o volume médio de negociação por dia\n",
    "    volume_medio = df['volume_negocios'].mean()\n",
    "    \n",
    "    # Imprimir o volume médio de negociação por dia\n",
    "    print(\"Volume médio de negociação por dia:\")\n",
    "    print(volume_medio)"
   ]
  },
  {
   "cell_type": "code",
   "execution_count": 45,
   "metadata": {},
   "outputs": [
    {
     "name": "stdout",
     "output_type": "stream",
     "text": [
      "Volume médio de negociação por dia:\n",
      "108490072.85645308\n"
     ]
    }
   ],
   "source": [
    "calcular_volume_medio(df_formatado)"
   ]
  },
  {
   "cell_type": "code",
   "execution_count": 50,
   "metadata": {},
   "outputs": [],
   "source": [
    "def encontrar_acoes_acima_da_media(df):\n",
    "    # Calcular o número médio de negócios por ação\n",
    "    media_negocios = df.groupby('sigla_acao')['qtd_negocios'].mean()\n",
    "\n",
    "    # Selecionar as ações com número de negócios acima da média\n",
    "    acoes_acima_da_media = media_negocios[media_negocios > media_negocios.mean()].head()\n",
    "\n",
    "    # Imprimir as ações com número de negócios acima da média\n",
    "    print(\"Ações com número de negócios acima da média:\")\n",
    "    print(acoes_acima_da_media.to_string(index=True))"
   ]
  },
  {
   "cell_type": "code",
   "execution_count": 51,
   "metadata": {},
   "outputs": [
    {
     "name": "stdout",
     "output_type": "stream",
     "text": [
      "Ações com número de negócios acima da média:\n",
      "sigla_acao\n",
      "ABEV3    2.737395e+07\n",
      "AERI3    4.123553e+06\n",
      "AESB3    1.722754e+06\n",
      "ALPA4    3.373275e+06\n",
      "ALSO3    2.040063e+06\n"
     ]
    }
   ],
   "source": [
    "encontrar_acoes_acima_da_media(df_formatado)"
   ]
  }
 ],
 "metadata": {
  "kernelspec": {
   "display_name": "Python 3",
   "language": "python",
   "name": "python3"
  },
  "language_info": {
   "codemirror_mode": {
    "name": "ipython",
    "version": 3
   },
   "file_extension": ".py",
   "mimetype": "text/x-python",
   "name": "python",
   "nbconvert_exporter": "python",
   "pygments_lexer": "ipython3",
   "version": "3.11.4"
  },
  "orig_nbformat": 4
 },
 "nbformat": 4,
 "nbformat_minor": 2
}
